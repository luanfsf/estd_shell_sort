{
  "nbformat": 4,
  "nbformat_minor": 0,
  "metadata": {
    "colab": {
      "name": "ShellSort.ipynb",
      "version": "0.3.2",
      "provenance": [],
      "toc_visible": true,
      "include_colab_link": true
    },
    "kernelspec": {
      "display_name": "Python 3",
      "language": "python",
      "name": "python3"
    }
  },
  "cells": [
    {
      "cell_type": "markdown",
      "metadata": {
        "id": "view-in-github",
        "colab_type": "text"
      },
      "source": [
        "[View in Colaboratory](https://colab.research.google.com/github/luanfsf/estd_shell_sort/blob/master/ShellSort.ipynb)"
      ]
    },
    {
      "metadata": {
        "id": "UntvorNAzeRk",
        "colab_type": "text"
      },
      "cell_type": "markdown",
      "source": [
        "# Shell Sort"
      ]
    },
    {
      "metadata": {
        "id": "gTTr75jezeRn",
        "colab_type": "text"
      },
      "cell_type": "markdown",
      "source": [
        "### * Sobre\n",
        "* Criador: Donald Shell\n",
        "* Ano: 1959\n",
        "\n",
        "### * Funcionamento\n",
        "\n",
        "### * Performance\n",
        "\n",
        "| Ω Melhor | Θ Médio | O Pior |\n",
        "|:----:|:----:|:----:|\n",
        "| Ω(n log(n)) |\tΘ(n(log(n))^2) | O(n(log(n))^2)|\n",
        "\n",
        "[Big-O Complexity Chart](http://bigocheatsheet.com/)\n",
        "\n",
        "-------"
      ]
    },
    {
      "metadata": {
        "id": "B41lGoVjzeRp",
        "colab_type": "text"
      },
      "cell_type": "markdown",
      "source": [
        "### * Visualização com pixels \n",
        "\n",
        "[YouTube](https://youtu.be/jHPexHsDxwQ?t=6m13s)\n",
        "\n",
        "| GAP = N/2 | GAP = GAP/2 | GAP = GAP/2 |\n",
        "| :-------: | :---------: | :---------: |\n",
        "|![Alt Text](https://media.giphy.com/media/5WJeFyHDru92Ek5VuJ/giphy.gif)|![Alt Text](https://media.giphy.com/media/dJjHG1d698xoZMJIRl/giphy.gif)|![Alt Text](https://media.giphy.com/media/azI2pOvoRUVmQI3gYK/giphy.gif)|\n",
        "|![Alt Text](https://media.giphy.com/media/4N3jtUxqD0HkIsSIhK/giphy.gif)|![Alt Text](https://media.giphy.com/media/1hAWTtPsVlrj1YAzYo/giphy.gif)|![Alt Text](https://media.giphy.com/media/1zijp5R4WLfG2F5bok/giphy.gif)|\n",
        "\n",
        "------"
      ]
    },
    {
      "metadata": {
        "id": "IURnufLJzeRs",
        "colab_type": "text"
      },
      "cell_type": "markdown",
      "source": [
        "### * Implementação em python\n",
        "\n",
        "```python\n",
        "def shell_sort(arr):\n",
        "    ''' Shell Sort\n",
        "        Complexity: O(n^2)\n",
        "    '''\n",
        "    n = len(arr)\n",
        "    # Initialize size of the gap\n",
        "    gap = n//2\n",
        "    \n",
        "    while gap > 0:\n",
        "        y_index = gap\n",
        "        while y_index < len(arr):\n",
        "            y = arr[y_index]\n",
        "            x_index = y_index - gap\n",
        "            while x_index >= 0 and y < arr[x_index]:\n",
        "                arr[x_index + gap] = arr[x_index]\n",
        "                x_index = x_index - gap\n",
        "            arr[x_index + gap] = y\n",
        "            y_index = y_index + 1\n",
        "        gap = gap//2\n",
        "        \n",
        "    return arr\n",
        "```\n",
        "\n",
        "[GitHub](https://github.com/keon/algorithms/blob/master/algorithms/sort/shell_sort.py)\n",
        "\n",
        "------"
      ]
    },
    {
      "metadata": {
        "id": "RVr9k6iHzeR2",
        "colab_type": "code",
        "colab": {}
      },
      "cell_type": "code",
      "source": [
        "# Import base sorting algorithms for comparision\n",
        "from algorithms import bubblesort, bubblesort2, selectionsort, shell_sort"
      ],
      "execution_count": 0,
      "outputs": []
    }
  ]
}