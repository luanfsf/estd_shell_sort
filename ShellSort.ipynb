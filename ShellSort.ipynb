{
  "nbformat": 4,
  "nbformat_minor": 0,
  "metadata": {
    "colab": {
      "name": "ShellSort.ipynb",
      "version": "0.3.2",
      "provenance": [],
      "include_colab_link": true
    },
    "kernelspec": {
      "display_name": "Python 3",
      "language": "python",
      "name": "python3"
    }
  },
  "cells": [
    {
      "cell_type": "markdown",
      "metadata": {
        "id": "view-in-github",
        "colab_type": "text"
      },
      "source": [
        "[View in Colaboratory](https://colab.research.google.com/github/luanfsf/estd_shell_sort/blob/master/ShellSort.ipynb)"
      ]
    },
    {
      "metadata": {
        "id": "UntvorNAzeRk",
        "colab_type": "text"
      },
      "cell_type": "markdown",
      "source": [
        "# Shell Sort"
      ]
    },
    {
      "metadata": {
        "id": "gTTr75jezeRn",
        "colab_type": "text"
      },
      "cell_type": "markdown",
      "source": [
        "### Descrição\n",
        "\n",
        "Shell sort é um algoritmo de ordenação in-place, baseado na ordenação por inserção.\n",
        "\n",
        "---\n",
        "\n",
        "### Sobre\n",
        "\n",
        "**Criador**: Donald Shell (Cientista da computação, Ph.D. em matemática)\n",
        "\n",
        "**Ano de públicação**: 1959\n",
        "\n",
        "---\n",
        "\n",
        "### Aplicações\n",
        "\n",
        "Está presente no kernel do linux;\n",
        "\n",
        "É implementado na função __qsort__ da biblioteca padrão de C desenvolvida para sistemas embarcados.\n",
        "\n",
        "---"
      ]
    },
    {
      "metadata": {
        "id": "8_K3ah-ku620",
        "colab_type": "text"
      },
      "cell_type": "markdown",
      "source": [
        "# Funcionamento\n",
        "O método de Shell é uma generalização da ordenação por inserção, que progressivamente ordena pares separados por um intervalo*, o qual é reduzido até que o tamanho do intervalo seja 1, onde é garantido que a lista estará ordenada ao fim da execução do método.\n",
        "\n",
        " \n",
        "$*$Existem várias propostas de algoritmos para definir o tamanho do intervalo, também chamado de *Gap sequences*, pois, a performance do Shell sort é bastante dependente deste intervalo\n",
        "\n",
        "\n",
        "---\n",
        "\n",
        "### * Complexidade\n",
        "\n",
        "Complexidade de tempo:\n",
        "\n",
        "| $\\Omega$ Melhor | $\\Theta$ Médio | $O$ Pior |\n",
        "|:----:|:----:|:----:|\n",
        "|  $$\\Omega (n \\space log(n))$$ |\t$$ \\Theta ( n(log(n))^2 )$$  | $$O( n(log(n))^2)$$ |\n",
        "\n",
        "Complexidade de spaço:\n",
        "\n",
        "| $O$ Pior |\n",
        "| :----:|\n",
        "|$$O(1)$$|\n",
        "\n",
        "Considerando a sequência N/2 on N é tamanho do vetor\n",
        "\n",
        "[Big-O Complexity Chart](http://bigocheatsheet.com/)"
      ]
    },
    {
      "metadata": {
        "id": "B41lGoVjzeRp",
        "colab_type": "text"
      },
      "cell_type": "markdown",
      "source": [
        "# Visualização\n",
        "\n",
        "[YouTube](https://youtu.be/jHPexHsDxwQ?t=6m13s)\n",
        "\n",
        "| GAP = N/2 | GAP = GAP/2 | GAP = GAP/2 |\n",
        "| :-------: | :---------: | :---------: |\n",
        "|![Alt Text](https://media.giphy.com/media/5WJeFyHDru92Ek5VuJ/giphy.gif)|![Alt Text](https://media.giphy.com/media/dJjHG1d698xoZMJIRl/giphy.gif)|![Alt Text](https://media.giphy.com/media/azI2pOvoRUVmQI3gYK/giphy.gif)|\n",
        "|![Alt Text](https://media.giphy.com/media/4N3jtUxqD0HkIsSIhK/giphy.gif)|![Alt Text](https://media.giphy.com/media/1hAWTtPsVlrj1YAzYo/giphy.gif)|![Alt Text](https://media.giphy.com/media/1zijp5R4WLfG2F5bok/giphy.gif)|\n",
        "\n",
        "------"
      ]
    },
    {
      "metadata": {
        "id": "IURnufLJzeRs",
        "colab_type": "text"
      },
      "cell_type": "markdown",
      "source": [
        "# Implementação em python\n",
        "\n",
        "```python\n",
        "def shell_sort(arr):\n",
        "    n = len(arr)\n",
        "    gap = n//2\n",
        "    \n",
        "    while gap > 0:\n",
        "        y_index = gap\n",
        "        while y_index < len(arr):\n",
        "            y = arr[y_index]\n",
        "            x_index = y_index - gap\n",
        "            while x_index >= 0 and y < arr[x_index]:\n",
        "                arr[x_index + gap] = arr[x_index]\n",
        "                x_index = x_index - gap\n",
        "            arr[x_index + gap] = y\n",
        "            y_index = y_index + 1\n",
        "        gap = gap//2\n",
        "        \n",
        "    return arr\n",
        "```\n",
        "\n",
        "[GitHub](https://github.com/keon/algorithms/blob/master/algorithms/sort/shell_sort.py)\n",
        "\n",
        "------"
      ]
    },
    {
      "metadata": {
        "id": "RVr9k6iHzeR2",
        "colab_type": "code",
        "colab": {}
      },
      "cell_type": "code",
      "source": [
        "# Import base sorting algorithms for comparision\n",
        "# from algorithms import bubblesort, bubblesort2, selectionsort, shell_sort"
      ],
      "execution_count": 0,
      "outputs": []
    }
  ]
}